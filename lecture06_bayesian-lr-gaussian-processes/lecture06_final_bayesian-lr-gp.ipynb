{
 "cells": [
  {
   "cell_type": "markdown",
   "metadata": {
    "slideshow": {
     "slide_type": "skip"
    }
   },
   "source": [
    "$$ \\LaTeX \\text{ command declarations here.}\n",
    "\\newcommand{\\N}{\\mathcal{N}}\n",
    "\\newcommand{\\R}{\\mathbb{R}}\n",
    "\\renewcommand{\\vec}[1]{\\mathbf{#1}}\n",
    "\\newcommand{\\norm}[1]{\\|#1\\|_2}\n",
    "\\newcommand{\\d}{\\mathop{}\\!\\mathrm{d}}\n",
    "\\newcommand{\\qed}{\\qquad \\mathbf{Q.E.D.}}\n",
    "\\newcommand{\\vx}{\\mathbf{x}}\n",
    "\\newcommand{\\vy}{\\mathbf{y}}\n",
    "\\newcommand{\\vt}{\\mathbf{t}}\n",
    "\\newcommand{\\vb}{\\mathbf{b}}\n",
    "\\newcommand{\\vw}{\\mathbf{w}}\n",
    "$$"
   ]
  },
  {
   "cell_type": "code",
   "execution_count": 1,
   "metadata": {
    "collapsed": false,
    "slideshow": {
     "slide_type": "skip"
    }
   },
   "outputs": [],
   "source": [
    "%matplotlib inline\n",
    "from Lec06 import *"
   ]
  },
  {
   "cell_type": "markdown",
   "metadata": {
    "slideshow": {
     "slide_type": "slide"
    }
   },
   "source": [
    "# EECS 545:  Machine Learning\n",
    "## Lecture 6:  Bayesian Linear Regression & Gaussian Processes\n",
    "* Instructor:  **Jacob Abernethy**\n",
    "* Date:  February 17, 2015\n",
    "\n",
    "*Lecture Exposition Credit: Ben & Valli*"
   ]
  },
  {
   "cell_type": "markdown",
   "metadata": {
    "slideshow": {
     "slide_type": "slide"
    }
   },
   "source": [
    "## Outline for this Lecture\n",
    "- More on Multivariate Gaussian\n",
    "    - Partitioned Marginal in Multivariate Gaussian\n",
    "    - Conditional of Multivariate Gaussian \n",
    "    - Bayes' Theorem for Linear Gaussian System\n",
    "    \n",
    "- Bayesian Linear Regression\n",
    "    - Bayesian Linear Regression\n",
    "    - Sequential Bayesian Learning\n",
    "    \n",
    "- Gaussian Processes\n",
    "\n",
    "\n"
   ]
  },
  {
   "cell_type": "markdown",
   "metadata": {
    "slideshow": {
     "slide_type": "slide"
    }
   },
   "source": [
    "## Reading List\n",
    "\n",
    "- Required:    \n",
    "    - **[PRML]**, §3.3: Bayesian Linear Regression\n",
    "    - **[PRML]**, §6.4: Gaussian Processes\n",
    "- Optional:\n",
    "    - **[MLAPP]**, §7.6.1-7.6.2: Bayesian Linear Regression\n",
    "    - **[MLAPP]**, §4.3: Inference in Joinly Gaussian Distributions\n",
    "    - **[CS229]** Ng, Andrew.  [CS 229:  Machine Learning](http://cs229.stanford.edu/).  Autumn 2015.\n",
    "        - [Gaussian Processes](http://cs229.stanford.edu/section/cs229-gaussian_processes.pdf)\n",
    "        - [More on Gaussians](http://cs229.stanford.edu/section/more_on_gaussians.pdf)"
   ]
  },
  {
   "cell_type": "markdown",
   "metadata": {
    "slideshow": {
     "slide_type": "skip"
    }
   },
   "source": [
    "> In this lecture, our main goal is to introduce linear regression from a Bayesian perspective which is an extension to last lecture. One important application of this is to let linear regression work in a *online* fashion.\n",
    "\n",
    "> Specifically, we will first cover some basics of multivariate Gaussians and derive the results of Bayes' Theorem for linear Gaussian system which will be used later. Next we will show how to do linear regression in Bayesian setting. Unlike finding a deterministic estimate of coefficients $\\vw$ in previous lectures, we will find a distribution of $\\vw$. Then, we will show how to apply Bayesian linear regression to streaming data. Streaming scenarios include realtime measurements, large amount of data that exceeds memory limit, etc.. Finally, we will introduce Gaussian processes and show Bayesian linear regression is actually a Gaussian process."
   ]
  },
  {
   "cell_type": "markdown",
   "metadata": {
    "slideshow": {
     "slide_type": "slide"
    }
   },
   "source": [
    "## More on Multivariate Gaussians\n",
    "\n",
    "> Taken from **[PRML]** §2.3, **[MLAPP]** §4.3, 4.4, and **[CS229]**"
   ]
  },
  {
   "cell_type": "markdown",
   "metadata": {
    "slideshow": {
     "slide_type": "slide"
    }
   },
   "source": [
    "### Multivariate Gaussians: Basics\n",
    "\n",
    "- For **Multivariate Gaussian** distribution $\\vec{x} \\sim \\N(\\vec{\\mu}, \\Sigma)$, we have\n",
    "    - **mean** $\\vec{\\mu} \\in \\R^D$\n",
    "    - **covariance matrix** $\\Sigma \\in \\R^{D \\times D}$\n",
    "    - **PDF**\n",
    "    $$\n",
    "    \\N(\\vec{x} | \\vec{\\mu}, \\Sigma)\n",
    "    = \\frac{1}{\\sqrt{(2\\pi)^D \\det( \\Sigma )}} \\exp\\left[ -\\frac12 (\\vec{x}-\\mu)^T \\Sigma^{-1} (\\vec{x} - \\mu) \\right]\n",
    "    $$"
   ]
  },
  {
   "cell_type": "markdown",
   "metadata": {
    "slideshow": {
     "slide_type": "slide"
    }
   },
   "source": [
    "### Partitioned Gaussian Distributions\n",
    "\n",
    "- Partition $\\vec{x} \\sim \\N(\\vec{\\mu}, \\Sigma)$ as\n",
    "    $$\n",
    "    \\vec{x} = \\begin{bmatrix}  \\vec{x_a} \\\\ \\vec{x_b} \\end{bmatrix}\n",
    "    \\quad\n",
    "    \\ \\vec{\\mu} = \\begin{bmatrix} \\vec{\\mu_a} \\\\ \\vec{\\mu_b} \\end{bmatrix}\n",
    "    \\quad\n",
    "    \\Sigma = \\begin{bmatrix}\n",
    "    \\Sigma_{aa} & \\Sigma_{ab} \\\\\n",
    "    \\Sigma_{ba} & \\Sigma_{bb}\n",
    "    \\end{bmatrix}\n",
    "    $$\n",
    "    such that $\\vec{x_a}, \\vec{\\mu_a} \\in \\R^{D_a}$, $\\vec{x_b}, \\vec{\\mu_b} \\in \\R^{D_b}$, $\\Sigma_{aa} \\in \\R^{D_a \\times D_a}$ and $\\Sigma_{bb} \\in \\R^{D_b \\times D_b}$ for some $D_a$ and $D_b$ ($D_a + D_b = D$).\n",
    "    \n",
    "- Then we could have marginals\n",
    "    $$\n",
    "    \\boxed{\\begin{matrix}\n",
    "    \\vec{x_a} \\sim \\N(\\vec{\\mu_a}, \\Sigma_{aa}) \\\\ \n",
    "    \\vec{x_b} \\sim \\N(\\vec{\\mu_b}, \\Sigma_{bb})\n",
    "    \\end{matrix}}\n",
    "    $$\n",
    "\n",
    "- Proof is in the **notes**"
   ]
  },
  {
   "cell_type": "markdown",
   "metadata": {
    "slideshow": {
     "slide_type": "skip"
    }
   },
   "source": [
    "> **Remark**—Proof for partitioned Gaussian Distribution\n",
    "\n",
    ">    - For covariance matrix $\\Sigma = \\begin{bmatrix} \\Sigma_{aa} & \\Sigma_{ab} \\\\ \\Sigma_{ba} & \\Sigma_{bb} \\end{bmatrix}$, define $\\Lambda = \\Sigma^{-1} = \\begin{bmatrix} \\Lambda_{aa} & \\Lambda_{ab} \\\\ \\Lambda_{ba} & \\Lambda_{bb} \\end{bmatrix}$\n",
    "\n",
    ">    - **Fact 1** Based on [blockwise inversion of matrix](https://en.wikipedia.org/wiki/Invertible_matrix#Blockwise_inversion), we have \n",
    "    $$\n",
    "    \\begin{align}\n",
    "    \\Lambda_{bb} &= (\\Sigma_{bb}-\\Sigma_{ba} \\Sigma_{aa}^{-1} \\Sigma_{ab})^{-1} \\\\\n",
    "    \\Lambda_{ba} &= -\\Lambda_{bb}\\Sigma_{ba}\\Sigma_{aa}^{-1} \\\\\n",
    "    \\Sigma_{aa} &= (\\Lambda_{aa}-\\Lambda_{ab} \\Lambda_{bb}^{-1} \\Lambda_{ba})^{-1}\n",
    "    \\end{align}\n",
    "    $$\n",
    "\n",
    ">    - **Fact 2** Based on [determinant of block matrix](https://en.wikipedia.org/wiki/Determinant#Block_matrices), we have\n",
    "    $$\n",
    "    \\begin{align}\n",
    "    \\det(\\Sigma)\n",
    "    &= \\det \\left ( \\begin{bmatrix} \\Sigma_{aa} & \\Sigma_{ab} \\\\ \\Sigma_{ba} & \\Sigma_{bb} \\end{bmatrix} \\right ) \\\\\n",
    "    &= \\det (\\Sigma_{aa}) \\det (\\Sigma_{bb}-\\Sigma_{ba}\\Sigma_{aa}^{-1}\\Sigma_{ab}) \\\\\n",
    "    &= \\det (\\Sigma_{aa}) \\det (\\Lambda_{bb}^{-1}) \n",
    "    \\end{align}\n",
    "    $$    "
   ]
  },
  {
   "cell_type": "markdown",
   "metadata": {
    "slideshow": {
     "slide_type": "skip"
    }
   },
   "source": [
    ">    - The **joint PDF** is\n",
    "    \\begin{equation}\n",
    "    \\begin{split}\n",
    "    P(\\vec{x_a}, \\vec{x_b}) \\quad\n",
    "    &= \\frac{1}{(2 \\pi)^{(D_a+D_b)/2}} \\frac{1}{(\\det{\\Sigma})^\\frac12} \\exp \\left \\{ -\\frac12 \\begin{bmatrix}\n",
    "    (\\vec{x_a}-\\vec{\\mu_a})^T&(\\vec{x_b}-\\vec{\\mu_b})^T \n",
    "    \\end{bmatrix}\n",
    "    \\begin{bmatrix} \\Lambda_{aa} & \\Lambda_{ab} \\\\ \\Lambda_{ba} & \\Lambda_{bb} \\end{bmatrix}\n",
    "    \\begin{bmatrix}\n",
    "    \\vec{x_a}-\\vec{\\mu_a} \\\\ \n",
    "    \\vec{x_b}-\\vec{\\mu_b}\n",
    "    \\end{bmatrix} \\right \\} \\\\\n",
    "    & = \\frac{1}{(2\\pi)^{D_a/2}} \\frac{1}{\\det(\\Sigma_{aa})^\\frac12} \\exp \\left\\{-\\frac12 (\\vec{x_a}-\\vec{\\mu_a})^T \\Sigma_{aa}^{-1} (\\vec{x_a}-\\vec{\\mu_a}) \\right\\} \\cdot \\\\\n",
    "    & \\quad \\frac{1}{(2 \\pi)^{D_b/2}} \\frac{1}{\\det(\\Lambda_{bb}^{-1})^\\frac12} \\exp \\biggl \\{-\\frac12 \\biggl[ (\\vec{x_a}-\\vec{\\mu_a})^T(\\Lambda_{aa}-\\Sigma_{aa}^{-1})(\\vec{x_a}-\\vec{\\mu_a}) +\\\\\n",
    "    & \\quad (\\vec{x_b}-\\vec{\\mu_b})^T\\Lambda_{bb}(\\vec{x_b}-\\vec{\\mu_b})+ 2(\\vec{x_a}-\\vec{\\mu_a})^T \\Lambda_{ab}(\\vec{x_b}-\\vec{\\mu_b})) \\biggl] \\biggl\\} \\qquad \\text{(According to } \\textbf{Fact 2)}  \\\\\n",
    "    & = \\N(\\vec{x_a}|\\vec{\\mu_a}, \\Sigma_{aa}) \\cdot \\\\\n",
    "    & \\quad \\frac{1}{(2 \\pi)^{D_b/2}} \\frac{1}{\\det(\\Lambda_{bb}^{-1})^\\frac12} \\exp \\biggl \\{-\\frac12 \\biggl[ (\\vec{x_a}-\\vec{\\mu_a})^T\\Lambda_{ab}\\Lambda_{bb}^{-1}\\Lambda_{ba}(\\vec{x_a}-\\vec{\\mu_a}) + \\\\\n",
    "    & \\quad (\\vec{x_b}-\\vec{\\mu_b})^T\\Lambda_{bb}(\\vec{x_b}-\\vec{\\mu_b})+ 2(\\vec{x_a}-\\vec{\\mu_a})^T \\Lambda_{ab}(\\vec{x_b}-\\vec{\\mu_b})) \\biggl] \\biggl\\} \\qquad \\text{(According to } \\textbf{Fact 1)} \\\\\n",
    "    & = \\N(\\vec{x_a}|\\vec{\\mu_a}, \\Sigma_{aa})  \\cdot\\\\\n",
    "    & \\quad \\frac{1}{(2 \\pi)^{D_b/2}} \\frac{1}{\\det(\\Lambda_{bb}^{-1})^\\frac12} \\exp \\biggl \\{-\\frac12 \\biggl[ (\\vec{x_a}-\\vec{\\mu_a})^T\\Lambda_{ab}\\Lambda_{bb}^{-1}\\Lambda_{bb}\\Lambda_{bb}^{-1}\\Lambda_{ba}(\\vec{x_a}-\\vec{\\mu_a}) +\\\\\n",
    "    & \\quad (\\vec{x_b}-\\vec{\\mu_b})^T\\Lambda_{bb}(\\vec{x_b}-\\vec{\\mu_b})+ 2(\\vec{x_a}-\\vec{\\mu_a})^T \\Lambda_{ab}\\Lambda_{bb}^{-1}\\Lambda_{bb}(\\vec{x_b}-\\vec{\\mu_b})) \\biggl] \\biggl\\} \\\\\n",
    "    & = \\N(\\vec{x_a}|\\vec{\\mu_a}, \\Sigma_{aa}) \\cdot \\\\\n",
    "    &\\quad \\frac{1}{(2 \\pi)^{D_b/2}} \\frac{1}{\\det(\\Lambda_{bb}^{-1})^\\frac12} \\exp \\biggl \\{-\\frac12  [\\vec{x_b}-\\vec{\\mu_b}+\\Lambda_{bb}^{-1}\\Lambda_{ba}(\\vec{x_a}-\\vec{\\mu_a})]^T\\Lambda_{bb}[\\vec{x_b}-\\vec{\\mu_b}+\\Lambda_{bb}^{-1}\\Lambda_{ba}(\\vec{x_a}-\\vec{\\mu_a})] \\biggl\\} \\\\\n",
    "    & = \\boxed{ \\N(\\vec{x_a}|\\vec{\\mu_a}, \\Sigma_{aa}) \\N(\\vec{x_b}|\\vec{\\mu_b}-\\Lambda_{bb}^{-1}\\Lambda_{ba}(\\vec{x_a}-\\vec{\\mu_a}), \\Lambda_{bb}^{-1}) }\\\\\n",
    "    \\end{split}\n",
    "    \\end{equation}"
   ]
  },
  {
   "cell_type": "markdown",
   "metadata": {
    "slideshow": {
     "slide_type": "skip"
    }
   },
   "source": [
    ">    - So the **marginal PDF** is \n",
    "    $$\n",
    "    \\begin{equation}\n",
    "    \\begin{split}\n",
    "    P(\\vec{x_a}) \n",
    "    & = \\int P(\\vec{x_a}, \\vec{x_b}) \\d \\vec{x_b} \\\\\n",
    "    & = \\N(\\vec{x_a}|\\vec{\\mu_a}, \\Sigma_{aa}) \\int  \\N(\\vec{x_b}|\\vec{\\mu_b}-\\Lambda_{bb}^{-1}\\Lambda_{ba}(\\vec{x_a}-\\vec{\\mu_a}), \\Lambda_{bb}^{-1}) \\d \\vec{x_b} \\\\\n",
    "    & = \\N(\\vec{x_a}|\\vec{\\mu_a}, \\Sigma_{aa}) \\cdot 1 \\\\\n",
    "    & = \\boxed{ \\N(\\vec{x_a}|\\vec{\\mu_a}, \\Sigma_{aa}) }\n",
    "    \\end{split}\n",
    "    \\end{equation}\n",
    "    $$\n",
    "    \n",
    ">    - Similarly, we could prove $\\boxed{ P(\\vec{x_a}) = \\N(\\vec{x_b}|\\vec{\\mu_b}, \\Sigma_{bb}) }\\qed$"
   ]
  },
  {
   "cell_type": "markdown",
   "metadata": {
    "slideshow": {
     "slide_type": "slide"
    }
   },
   "source": [
    "### Partitioned Marginals:  Bivariate Example"
   ]
  },
  {
   "cell_type": "code",
   "execution_count": 2,
   "metadata": {
    "collapsed": false,
    "scrolled": false,
    "slideshow": {
     "slide_type": "-"
    }
   },
   "outputs": [
    {
     "data": {
      "image/png": "[encoded data removed]",
      "text/plain": [
       "<matplotlib.figure.Figure at 0x10859cc90>"
      ]
     },
     "metadata": {},
     "output_type": "display_data"
    }
   ],
   "source": [
    "plot_mvn(2, 1, 4, 2, 1); # sigma_x_a, sigma_x_b, mu_x, mu_y, corr"
   ]
  },
  {
   "cell_type": "markdown",
   "metadata": {
    "slideshow": {
     "slide_type": "slide"
    }
   },
   "source": [
    "### Partitioned Conditionals\n",
    "\n",
    "- Given the setting of partition defined above, we have the **conditionals** \n",
    "    $$\n",
    "    \\begin{matrix}\n",
    "    \\boxed{\n",
    "    \\begin{align}\n",
    "    P(\\vec{x_b} | \\vec{x_a})\n",
    "    &= \\N(\\vec{x_b} | \\mu_{b|a}, \\Sigma_{b|a}) \\\\\n",
    "    \\Sigma_{b|a}\n",
    "    &= \\Sigma_{bb} - \\Sigma_{ba}\\Sigma_{aa}^{-1} \\Sigma_{ab} \\\\\n",
    "    \\mu_{b|a}\n",
    "    &= \\mu_b + \\Sigma_{ba} \\Sigma_{aa}^{-1} (\\vec{x_a} - \\mu_a)\n",
    "    \\end{align}\n",
    "    }\n",
    "    &\n",
    "    \\boxed{\n",
    "    \\begin{align}\n",
    "    P(\\vec{x_a} | \\vec{x_b})\n",
    "    &= \\N(\\vec{x_a} | \\mu_{a|b}, \\Sigma_{a|b}) \\\\\n",
    "    \\Sigma_{a|b}\n",
    "    &= \\Sigma_{aa} - \\Sigma_{ab}\\Sigma_{bb}^{-1} \\Sigma_{ba} \\\\\n",
    "    \\mu_{a|b}\n",
    "    &= \\mu_a + \\Sigma_{ab} \\Sigma_{bb}^{-1} (\\vec{x_b} - \\mu_b)\n",
    "    \\end{align}\n",
    "    }\n",
    "    \\end{matrix}\n",
    "    $$\n",
    "\n",
    "- Proof is in the **notes**"
   ]
  },
  {
   "cell_type": "markdown",
   "metadata": {
    "slideshow": {
     "slide_type": "skip"
    }
   },
   "source": [
    "> **Remark**\n",
    "> - The **conditional** distribution of $\\vec{x_a}|\\vec{x_b}$ means the distribution of $\\vec{x_a}$ given the value of $\\vec{x_b}$.\n",
    "\n",
    "> - For the following notes, we will use $\\vec{x_a}|\\vec{x_b}$ to denote \"**random variable $\\vec{x_a}$ given the value of $\\vec{x_b}$**\"\n",
    "\n",
    "> - For $\\vec{x_a}|\\vec{x_b}$, \n",
    "\n",
    ">    - Its **Mean** $\\mu_{a|b}$ is a linear function w.r.t. $\\vec{x_b}$.\n",
    "\n",
    ">    - Its **Covariance** $\\Sigma_{a|b}$ is constant no matter what $\\vec{x_b}$ is.\n",
    "\n",
    "> - **Proof** for partitioned conditionals\n",
    "\n",
    ">     - From previous **Remark**, we already showed \n",
    "$$\n",
    "    \\begin{align}\n",
    "    P(\\vec{x_a}, \\vec{x_b}) &= \\N(\\vec{x_a}|\\vec{\\mu_a}, \\Sigma_{aa}) \\N(\\vec{x_b}|\\vec{\\mu_b}-\\Lambda_{bb}^{-1}\\Lambda_{ba}(\\vec{x_a}-\\vec{\\mu_a}), \\Lambda_{bb}^{-1}) \\\\\n",
    "    P(\\vec{x_a}) &= \\N(\\vec{x_a}|\\vec{\\mu_a}, \\Sigma_{aa})\n",
    "    \\end{align}\n",
    "    $$\n",
    "    So the conditional is\n",
    "    $$\n",
    "    P(\\vec{x_b}|\\vec{x_a}) = \\frac{P(\\vec{x_a}, \\vec{x_b})}{P(\\vec{x_a})} = \\N(\\vec{x_b}|\\vec{\\mu_b}-\\Lambda_{bb}^{-1}\\Lambda_{ba}(\\vec{x_a}-\\vec{\\mu_a}), \\Lambda_{bb}^{-1})\n",
    "    $$\n",
    "    Based on results from **Fact 1** in previous **Remark**, we have\n",
    "    $$\n",
    "    P(\\vec{x_b}|\\vec{x_a}) = \\N(\\vec{x_b}|\\underbrace{\\mu_b + \\Sigma_{ba}\\Sigma_{aa}^{-1}(\\vec{x_a}-\\mu_a)}_{\\mu_{b|a}}, \\underbrace{\\Sigma_{bb}-\\Sigma_{ba}\\Sigma_{aa}^{-1}\\Sigma_{ab}}_{\\Sigma_{b|a}})\n",
    "    $$\n",
    "    Similarly we could prove $P(\\vec{x_a}|\\vec{x_b})$ case. $\\qed$"
   ]
  },
  {
   "cell_type": "markdown",
   "metadata": {
    "slideshow": {
     "slide_type": "-"
    }
   },
   "source": [
    "- Illustration of conditionals\n",
    "<center> <img src=\"images/partitioned-conditionals.png\"  style=\"width:500px;height:240px;\"> </center>\n",
    "- The conditional is obtained by \"slicing\" the joint PDF.\n"
   ]
  },
  {
   "cell_type": "markdown",
   "metadata": {
    "slideshow": {
     "slide_type": "slide"
    }
   },
   "source": [
    "### Linear Gaussian Systems:  Model\n",
    "- **Just then** we have just showed if we partition a multivariate Gaussian into two vectors\n",
    "    $$\n",
    "    \\begin{bmatrix}  \\vec{x_a} \\\\ \\vec{x_b} \\end{bmatrix}\n",
    "    \\sim\n",
    "    \\N \\left(\n",
    "    \\begin{bmatrix} \\vec{\\mu_a} \\\\ \\vec{\\mu_b} \\end{bmatrix},\n",
    "    \\begin{bmatrix}\n",
    "    \\Sigma_{aa} & \\Sigma_{ab} \\\\  \\Sigma_{ba} & \\Sigma_{bb}\n",
    "    \\end{bmatrix}\n",
    "    \\right)\n",
    "    $$\n",
    "    we have the following conditional with mean a **linear** function w.r.t. $\\vec{x_b}$\n",
    "    $$\n",
    "    P(\\vec{x_a} | \\vec{x_b}) = \\N(\\vec{x_a} | \\mu_{a|b}, \\Sigma_{a|b})\n",
    "    \\quad \\mu_{a|b} = \\mu_a + \\Sigma_{ab} \\Sigma_{bb}^{-1} (\\vec{x_b} - \\mu_b)\n",
    "    \\quad \\Sigma_{a|b} = \\Sigma_{aa} - \\Sigma_{ab}\\Sigma_{bb}^{-1} \\Sigma_{ba} \n",
    "    $$    \n",
    "\n",
    "- **Now** let's consider a **different** but **similar** setting:\n",
    "    - We have a **Gaussian** $\\vec{x} \\in \\R^{D_X}$ and **some** $\\vec{y} \\in \\R^{D_Y}$ of which\n",
    "    $$\n",
    "    \\vec{x} \\sim \\N(\\mu_x, \\Sigma_x) \\quad (\\mu_\\vx \\text{ and } \\Sigma_\\vx \\text{ are } \\textbf{known} )\n",
    "    $$\n",
    "    And the conditional relation between $\\vec{x}$ and $\\vec{y}$ is\n",
    "    $$\n",
    "    \\vec{y}|\\vec{x} \\sim \\N(A\\vec{x}+\\vb, \\Sigma_{\\vy|\\vx}) \\quad (A, b \\text{ and } \\Sigma_{\\vy|\\vx} \\text{ are } \\textbf{known} )\n",
    "    $$\n",
    "    which says $\\vy|\\vx$ is also a Gaussian with mean $\\mu_{\\vy|\\vx}$ a **linear** function of $\\vx$\n",
    "\n",
    "- **Then**, what is the distribution of $\\vy$ and what is the distribution of $\\vx|\\vy$?\n",
    "    - Are they also **Gaussian**? \n",
    "    - If so, what are the mean and covariance?"
   ]
  },
  {
   "cell_type": "markdown",
   "metadata": {
    "slideshow": {
     "slide_type": "slide"
    }
   },
   "source": [
    "### Linear Gaussian Systems:  Bayes' Theorem\n",
    "\n",
    "- Actually, given\n",
    "    $$\n",
    "    \\vec{x} \\sim \\N(\\mu_\\vx, \\Sigma_\\vx) \\quad \\text{and} \\quad \\vec{y}|\\vec{x} \\sim \\N(A\\vec{x}+\\vb, \\Sigma_{\\vy|\\vx})\n",
    "    $$\n",
    "    we could show \n",
    "    $$\n",
    "    \\boxed{\\vy \\sim \\mathcal{N}( A\\mu_\\vx + \\vb, \\Sigma_{\\vy|\\vx} + A\\Sigma_\\vx A^T)}\n",
    "    $$\n",
    "    and\n",
    "    $$\n",
    "    \\boxed{\\vx|\\vy \\sim \\mathcal{N}( \\mu_{\\vx|\\vy}, \\Sigma_{\\vy|\\vx})}\n",
    "    $$\n",
    "    of which\n",
    "    $$\n",
    "    \\begin{align}\n",
    "    \\Sigma_{\\vx|\\vy} &= (\\Sigma_\\vx^{-1} + A^T \\Sigma_{\\vy|\\vx}^{-1} A)^{-1} \\\\\n",
    "    \\mu_{\\vx|\\vy} &= \\Sigma_{\\vx|\\vy} \\left[\n",
    "    A^T \\Sigma_{\\vy|\\vx}^{-1} (\\vy-b) + \\Sigma_\\vx^{-1} \\mu_\\vx \n",
    "    \\right]\n",
    "    \\end{align}\n",
    "    $$\n",
    "\n",
    "- Proof is in the **notes**\n",
    "\n",
    "- This theorem will play a **key role** throughout this lecture."
   ]
  },
  {
   "cell_type": "markdown",
   "metadata": {
    "slideshow": {
     "slide_type": "skip"
    }
   },
   "source": [
    "> **Remark**\n",
    "\n",
    "> - **Proof for $\\vy$ (*Less* rigorous one)**\n",
    "\n",
    ">    - Let's assume (less rigorous because here we directly assume $\\vy$ to have Gaussian distribution)\n",
    "    $$\\vy \\sim \\N(\\mu_\\vy, \\Sigma_\\vy)$$\n",
    "    So based on conditional of partitioned Gaussion, we have\n",
    "    $$\n",
    "    \\vy|\\vx \\sim \\N(\\mu_\\vy + \\Sigma_{\\vy\\vx}\\Sigma_{\\vx}^{-1}(\\vx-\\mu_\\vx), \\Sigma_\\vy-\\Sigma_{\\vy\\vx}\\Sigma_{\\vx}^{-1}\\Sigma_{\\vx\\vy})\n",
    "    $$\n",
    "    Since we have known $\\vec{y}|\\vec{x} \\sim \\N(A\\vec{x}+\\vb, \\Sigma_{\\vy|\\vx})$, we could have the following equations\n",
    "    $$\n",
    "    \\left\\{\\begin{array}{l}    \\Sigma_{\\vy\\vx}\\Sigma_\\vx^{-1} = A   \\\\    \\mu_\\vy - \\Sigma_{\\vy\\vx} \\Sigma_\\vx^{-1}\\mu_\\vx = \\vb   \\\\    \\Sigma_\\vy-\\Sigma_{\\vy\\vx}\\Sigma_\\vx^{-1}\\Sigma_{\\vx\\vy} = \\Sigma_{\\vy|\\vx}    \\end{array}\\right.\n",
    "    \\Rightarrow\n",
    "    \\left\\{\\begin{array}{l}   \\Sigma_{\\vy\\vx}=A\\Sigma_\\vx,\\ \\Sigma_{\\vx\\vy}=\\Sigma_\\vx A^T    \\\\    \\mu_\\vy=A\\mu_\\vx+\\vb    \\\\    \\Sigma_\\vy=\\Sigma_{\\vy|\\vx}+A\\Sigma_\\vx A^T    \\end{array}\\right.\n",
    "    \\Rightarrow\n",
    "    \\vy \\sim \\N(A\\mu_\\vx + \\vb, \\Sigma_{\\vy|\\vx} + A\\Sigma_\\vx A^T) \\qed\n",
    "    $$\n"
   ]
  },
  {
   "cell_type": "markdown",
   "metadata": {
    "slideshow": {
     "slide_type": "skip"
    }
   },
   "source": [
    "> - **Proof for $\\vx|\\vy$**\n",
    "\n",
    ">    - We already have\n",
    "    $$\n",
    "    \\left\\{\\begin{array}{l}    \\vec{x} \\sim \\N(\\mu_\\vx, \\Sigma_\\vx)   \\\\    \\vy \\sim \\mathcal{N}( \\underbrace{A\\mu_\\vx + \\vb}_{\\mu_\\vy}, \\underbrace{\\Sigma_{\\vy|\\vx} + A\\Sigma_\\vx A^T)}_{\\Sigma_\\vy}   \\\\    \\Sigma_{\\vy\\vx}=A\\Sigma_\\vx,\\ \\Sigma_{\\vx\\vy}=\\Sigma_\\vx A^T     \\end{array}\\right.\n",
    "    $$\n",
    "    According to conditional of partitioned Gaussian, we know $\\vx|\\vy$ has Gaussian distribution, so we could assume\n",
    "    $$\\vx|\\vy \\sim \\N(\\mu_{\\vx|\\vy}, \\Sigma_{\\vx|\\vy})$$\n",
    "    Applying the result of conditional of partitioned Gaussian, we have covariance:\n",
    "    $$\n",
    "    \\begin{align}\n",
    "    \\Sigma_{\\vx|\\vy} \n",
    "    &= \\Sigma_\\vx - \\Sigma_{\\vx\\vy} \\Sigma_{\\vy}^{-1} \\Sigma_{\\vy\\vx} \\\\\n",
    "    &= \\Sigma_\\vx - \\Sigma_{\\vx}A^T (\\Sigma_{\\vy|\\vx}+A\\Sigma_{\\vx}A^T)^{-1} A \\Sigma_{\\vx} \\\\\n",
    "    &= \\boxed{(\\Sigma_\\vx^{-1} + A^T \\Sigma_{\\vy|\\vx}^{-1} A)^{-1}}\n",
    "    \\end{align}\n",
    "    $$\n",
    "    of which the last equation is based on matrix inversion lemma. "
   ]
  },
  {
   "cell_type": "markdown",
   "metadata": {},
   "source": [
    "> - **Proof for $\\vx|\\vy$**\n",
    ">    - And we have mean:\n",
    "    $$\n",
    "    \\begin{align}\n",
    "    \\mu_{\\vx|\\vy}\n",
    "    &= \\mu_\\vx + \\Sigma_{\\vx\\vy}\\Sigma_{\\vy}^{-1}(\\vy-\\mu_{\\vy}) \\\\\n",
    "    &= \\mu_\\vx + \\Sigma_{\\vx\\vy} \\Sigma_{\\vy}^{-1} (\\vy-A\\mu_\\vx-\\vb) \\\\\n",
    "    &= \\Sigma_{\\vx\\vy} \\Sigma_{\\vy}^{-1} (\\vy-\\vb) + (I-\\Sigma_{\\vx\\vy} \\Sigma_{\\vy}^{-1}A)\\mu_\\vx\n",
    "    \\end{align}\n",
    "    $$\n",
    "    of which\n",
    "    $$\n",
    "    \\begin{align}\n",
    "    \\Sigma_{\\vx\\vy} \\Sigma_{\\vy}^{-1}\n",
    "    &= \\Sigma_\\vx A^T (\\Sigma_{\\vy|\\vx} + A \\Sigma_\\vx A^T)^{-1} \\\\\n",
    "    &= \\Sigma_{\\vx|\\vy} [ \\Sigma_{\\vx|\\vy}^{-1} \\Sigma_\\vx A^T (\\Sigma_{\\vy|\\vx} + A \\Sigma_\\vx A^T)^{-1} ] \\\\\n",
    "    &= \\Sigma_{\\vx|\\vy} [(\\Sigma_\\vx+A^T \\Sigma_{\\vy|\\vx}^{-1} A) \\Sigma_\\vx A^T (\\Sigma_{\\vy|\\vx} + A \\Sigma_\\vx A^T)^{-1} ] \\\\\n",
    "    &= \\Sigma_{\\vx|\\vy} [ (A^T + A^T \\Sigma_{\\vy|\\vx}^{-1} A \\Sigma_\\vx A^T) (\\Sigma_{\\vy|\\vx} + A \\Sigma_\\vx A^T)^{-1} ] \\\\\n",
    "    &= \\Sigma_{\\vx|\\vy} A^T [ (I + \\Sigma_{\\vy|\\vx}^{-1} A \\Sigma_\\vx A^T) (\\Sigma_{\\vy|\\vx} + A \\Sigma_\\vx A^T)^{-1} ] \\\\\n",
    "    &= \\Sigma_{\\vx|\\vy} A^T \\Sigma_{\\vy|\\vx}^{-1} [ (\\Sigma_{\\vy|\\vx} +  A \\Sigma_\\vx A^T) (\\Sigma_{\\vy|\\vx} + A \\Sigma_\\vx A^T)^{-1} ] \\\\\n",
    "    &= \\Sigma_{\\vx|\\vy} A^T \\Sigma_{\\vy|\\vx}^{-1} \\\\\n",
    "    \\end{align}\n",
    "    $$"
   ]
  },
  {
   "cell_type": "markdown",
   "metadata": {},
   "source": [
    "> - **Proof for $\\vx|\\vy$**\n",
    "    $$\n",
    "    \\begin{align}\n",
    "    I-\\Sigma_{\\vx\\vy} \\Sigma_{\\vy}^{-1}A \n",
    "    &= I-\\Sigma_{\\vx|\\vy} A^T \\Sigma_{\\vy|\\vx}^{-1} A \\\\\n",
    "    &= \\Sigma_{\\vx|\\vy} (\\Sigma_{\\vx|\\vy}^{-1} - A^T \\Sigma_{\\vy|\\vx}^{-1} A)\\\\\n",
    "    &= \\Sigma_{\\vx|\\vy} (\\Sigma_{\\vx}^{-1} + A^T \\Sigma_{\\vy|\\vx}^{-1} A - A^T \\Sigma_{\\vy|\\vx}^{-1} A)\\\\\n",
    "    &= \\Sigma_{\\vx|\\vy} \\Sigma_{\\vx}^{-1}\n",
    "    \\end{align}\n",
    "    $$\n",
    "    Plug this back to the mean,\n",
    "    $$\n",
    "    \\begin{align}\n",
    "    \\mu_{\\vx|\\vy}\n",
    "    &= \\Sigma_{\\vx|\\vy} A^T \\Sigma_{\\vy|\\vx}^{-1} (\\vy - \\vb) + \\Sigma_{\\vx|\\vy} \\Sigma_{\\vx}^{-1} \\mu_\\vx \\\\\n",
    "    &= \\boxed{\\Sigma_{\\vx|\\vy} [ A^T \\Sigma_{\\vy|\\vx}^{-1} (\\vy - \\vb) + \\Sigma_{\\vx}^{-1} \\mu_\\vx]} \\qed\n",
    "    \\end{align}\n",
    "    $$"
   ]
  },
  {
   "cell_type": "markdown",
   "metadata": {
    "slideshow": {
     "slide_type": "slide"
    }
   },
   "source": [
    "## Bayesian Linear Regression \n",
    "\n",
    "> Taken from **[PRML]** §3.3, **[MLAPP]** §7.6"
   ]
  },
  {
   "cell_type": "markdown",
   "metadata": {
    "collapsed": true,
    "slideshow": {
     "slide_type": "slide"
    }
   },
   "source": [
    "### Review:  Regression\n",
    "- In last lecture, we have the model for single data point $(\\vec{x}, t)$\n",
    "    $$\n",
    "    \\begin{gather}\n",
    "    t = \\vec{w}^T \\phi(\\vec{x}) + \\epsilon \\\\ \n",
    "    \\epsilon \\sim \\mathcal{N}(0, \\beta^{-1}) \\\\\n",
    "    t\\, | \\,\\vx,\\vw   \\sim \\mathcal{N}(\\vec{w}^T \\phi(\\vec{x}), \\beta^{-1})\n",
    "    \\end{gather}\n",
    "    $$\n",
    "\n",
    "- So for inputs $\\mathcal{X}=(\\vec{x}_1, \\dots, \\vec{x}_n)$ and target values $\\vec{t}=(t_1,\\dots,t_n)$, we have\n",
    "    $$\n",
    "    \\begin{gather}\n",
    "    \\vt\\, | \\,\\mathcal{X}, \\vw \\sim \\N(\\Phi \\vw, \\beta^{-1}I)\n",
    "    \\end{gather}\n",
    "    $$\n",
    "    \n",
    "- Recall in last lecture, if we have **prior** $\\vec{w} \\sim \\mathcal{N}(\\vec{0}, \\alpha^{-1}I)$, the **MAP Estimate** of $\\vw$ corresponds to solution to **ridge regression** (least squares with $\\ell^2$ regularization) $$\\vec{w}_{MAP} = (\\Phi^T \\Phi + \\frac{\\alpha}{\\beta} I)^{-1} \\Phi^T \\vec{t}$$\n",
    "\n",
    "- Next, we will see what $\\vw$'s **posterior** $P(\\vw \\, | \\, \\mathcal{X}, \\vt)$ is with more general prior.\n",
    "\n",
    "- Note that $\\vec{w}_{MAP}$ is just a single point estimate of **posterior** $P(\\vw \\, | \\, \\mathcal{X}, \\vt)$. More about this will come later."
   ]
  },
  {
   "cell_type": "markdown",
   "metadata": {
    "slideshow": {
     "slide_type": "skip"
    }
   },
   "source": [
    "> **Remark**\n",
    "> - Recall **design matrix** $\\Phi$ is\n",
    "    $$\n",
    "    \\Phi = \\begin{bmatrix}\n",
    "    \\phi(\\vec{x}_1)^T\\\\ \n",
    "    \\phi(\\vec{x}_2)^T\\\\ \n",
    "    \\vdots\\\\\n",
    "    \\phi(\\vec{x}_N)^T\n",
    "    \\end{bmatrix}\n",
    "    = \\begin{bmatrix}\n",
    "    \\phi_0(\\vec{x}_1) & \\phi_1(\\vec{x}_1) & \\cdots & \\phi_{M-1}(\\vec{x}_1) \\\\\n",
    "    \\phi_0(\\vec{x}_2) & \\phi_1(\\vec{x}_2) & \\cdots & \\phi_{M-1}(\\vec{x}_2) \\\\\n",
    "    \\vdots & \\vdots & \\ddots & \\vdots \\\\\n",
    "    \\phi_0(\\vec{x}_N) & \\phi_1(\\vec{x}_N) & \\cdots & \\phi_{M-1}(\\vec{x}_N) \\\\\n",
    "    \\end{bmatrix}\n",
    "    $$"
   ]
  },
  {
   "cell_type": "markdown",
   "metadata": {
    "slideshow": {
     "slide_type": "slide"
    }
   },
   "source": [
    "### Bayesian Linear Regression\n",
    "- We have **prior** for coefficients $\\vw$\n",
    "    $$\n",
    "    P(\\vw) = \\N(\\vw \\, | \\, \\vec{m}_0, S_0)\n",
    "    $$\n",
    "\n",
    "- And from last slide, we have **likelihood**\n",
    "    $$\n",
    "    P(\\vt \\, | \\, \\vw, \\mathcal{X}) = \\N(\\vt \\, | \\, \\Phi \\vw, \\beta^{-1}I)\n",
    "    $$\n",
    "\n",
    "- **Bayesian Linear Regression** computes the full **posterior** over the weights (prior),\n",
    "    $$\n",
    "    \\begin{align}\n",
    "    P(\\vw \\, | \\, \\vt, \\mathcal{X})\n",
    "    & = \\frac{P(\\vt \\,|\\, \\vw, \\mathcal{X}) P(\\vw \\,|\\, \\mathcal{X})}{P(\\vt \\,|\\, \\mathcal{X})} \\\\\n",
    "    &\\propto P(\\vt \\,|\\, \\vw, \\mathcal{X}) P(\\vw \\,|\\, \\mathcal{X}) \\\\\n",
    "    &\\propto \\underbrace{P(\\vt \\, | \\, \\vw, \\mathcal{X})}_{\\text{Likelihood}} \\underbrace{P(\\vw)}_{\\text{Prior}} \\qquad \\text{(Drop } \\mathcal{X} \\text{ because of independence)}\\\\\n",
    "    &\\propto \\N(\\vt \\, | \\, \\Phi \\vw, \\beta^{-1}I) \\N(\\vw \\, | \\, \\vec{m}_0, S_0) \\\\\n",
    "    & = \\mathcal{N}(\\vw \\, | \\, \\vec{m}_N, S_N) \\qquad \\text{(Can be obtained from some normalization)}\n",
    "    \\end{align}\n",
    "    $$\n",
    "    where\n",
    "    $$\n",
    "    \\boxed{S_N = (S_0^{-1} + \\beta \\Phi^{T} \\Phi)^{-1} \\qquad \\vec{m}_N = S_N(\\beta \\Phi^T \\vt + S_0^{-1} \\vec{m}_0)}\n",
    "    $$\n",
    "    \n",
    "- We will derive this using results we just derived in Bayes' Theorem for Linear Gaussian"
   ]
  },
  {
   "cell_type": "markdown",
   "metadata": {
    "slideshow": {
     "slide_type": "skip"
    }
   },
   "source": [
    "> **Remark**\n",
    "\n",
    "> - Generally, we should follow $$\\text{Posterior} = \\text{Likelihood} \\times \\text{Prior}$$ to compute the posterior. But since we have the results from Bayes'Theorem for Linear Gaussian, we will use directly.\n",
    "\n",
    "> - **Posterior** $P(\\vw \\, | \\, \\vt, \\mathcal{X})$ tells us our prior belief in $\\vw$ with **mean** $\\vec{m}_0$ and **covariance** $S_0$ has been updated to **mean** $\\vec{m}_N$ and **covariance** $S_N$.\n",
    "\n",
    "> - We will show this change in some plots later.\n"
   ]
  },
  {
   "cell_type": "markdown",
   "metadata": {
    "slideshow": {
     "slide_type": "slide"
    }
   },
   "source": [
    "### Bayesian Linear Regression: Derivation\n",
    "- Following the results in Bayes' Theorem for Linear Gaussian, we have\n",
    "    $$\n",
    "    \\boxed{\n",
    "    \\begin{align}\n",
    "    & \\text{Bayes' Theorem of Linear Gaussian} \\\\\n",
    "    \\vec{x} & \\sim \\N(\\mu_\\vx, \\Sigma_\\vx) \\\\\n",
    "    \\vec{y}|\\vec{x} & \\sim \\N(A\\vec{x}+\\vb, \\Sigma_{\\vy|\\vx}) \\\\\n",
    "    & \\Downarrow \\\\\n",
    "    \\vx|\\vy &\\sim \\mathcal{N}( \\mu_{\\vx|\\vy}, \\Sigma_{\\vy|\\vx}) \\\\\n",
    "    \\Sigma_{\\vx|\\vy} &= (\\Sigma_\\vx^{-1} + A^T \\Sigma_{\\vy|\\vx}^{-1} A)^{-1} \\\\\n",
    "    \\mu_{\\vx|\\vy} &= \\Sigma_{\\vx|\\vy} \\left[A^T \\Sigma_{\\vy|\\vx}^{-1} (\\vy-b) + \\Sigma_\\vx^{-1} \\mu_\\vx \\right] \\end{align}\n",
    "    }\n",
    "    \\Rightarrow\n",
    "    \\boxed{\n",
    "    \\begin{align}\n",
    "    & \\text{Posterior of } \\vw\\\\\n",
    "    \\vw | \\mathcal{X} & \\sim \\N(\\vec{m}_0, S_0) \\\\\n",
    "    \\vt|\\vw , \\mathcal{X} & \\sim \\N(\\Phi \\vw, \\beta^{-1}I) \\\\\n",
    "    & \\Downarrow \\\\\n",
    "    \\vw|\\vt , \\mathcal{X} &\\sim \\N(\\vec{m}_N, S_N) \\\\\n",
    "    S_N &= (S_0^{-1} + \\beta \\Phi^{T} \\Phi)^{-1} \\\\\n",
    "    \\vec{m}_N &= S_N(\\beta \\Phi^T \\vt + S_0^{-1} \\vec{m}_0 )\n",
    "    \\end{align}\n",
    "    }\n",
    "    $$    \n",
    "\n",
    "- Done!\n",
    "\n",
    "- Don't get confused by $\\mathcal{X}$ in the condition position. We are free to drop it without any impact.\n",
    "\n",
    "- Think like a Bayesian. Sometimes we usually drop some priors like \"Coin is fair\" in $P( \\text{Head} \\,|\\, \\text{Coin is fair})$"
   ]
  },
  {
   "cell_type": "markdown",
   "metadata": {
    "slideshow": {
     "slide_type": "slide"
    }
   },
   "source": [
    "### BLR:  Simplifying the Prior\n",
    "\n",
    "- Assume $\\vec{m}_0 = 0$ and $S_0 = \\alpha^{-1}I$ (like what we did in ridge regression), we have\n",
    "    $$\n",
    "    P(\\vw \\, | \\, \\vt, \\mathcal{X}) = \\mathcal{N}(\\vw \\, | \\, \\vec{m}_N, S_N)\n",
    "    $$\n",
    "    where\n",
    "    $$\n",
    "    S_N =  (\\alpha I + \\beta \\Phi^T \\Phi)^{-1} \\\\\n",
    "    \\vec{m}_N = \\beta S_N \\Phi^T \\vt = (\\Phi^T \\Phi + \\frac{\\alpha}{\\beta} I)^{-1} \\Phi^T \\vt\n",
    "    $$\n",
    "\n",
    "- Note that the **posterior mean** $\\vec{m}_N$ is the **MAP estimate** of $\\vw$. \n",
    "\n",
    "- This makes sense because **posterior mean** is exactly the point that maximizes the posterior P(\\vw|\\vt, \\mathcal{X}, \\beta).\n",
    "\n",
    "- **Posterior Covariance** $S_N$ tells us how confident we are in our prediction $\\vw_{MAP}$ because it tells us how far $\\vw$ are spread out from its mean $\\vw_{MAP}$."
   ]
  },
  {
   "cell_type": "markdown",
   "metadata": {
    "slideshow": {
     "slide_type": "slide"
    }
   },
   "source": [
    "### Sequential Bayesian Learning\n",
    "\n",
    "- Sometimes, our data is *streaming*, and we want to learn $\\vw$ in a online fashion.\n",
    "\n",
    "- **Note:** The posterior $P(\\vw\\, | \\,\\vt, \\mathcal{X})$ and prior $P(\\vw)$ are both Gaussians. \n",
    "    - We can use the posterior for one set of observations as a prior for the next set of observations.\n",
    "    - And following exactly the same procedures as above, we will get a new posterior .\n",
    "    - Starting from a fixed prior, sequentially update our beliefs as new data arrives.\n",
    "    \n",
    "- Here are the details\n",
    "    - **Initialize** $\\vec{m}_0$ and $S_0$ of $\\N(\\vw \\, | \\, m_0, S_0)$\n",
    "    - **Repeat** when the $ith$ obseravation $\\{\\mathcal{X}_i, \\vt_i \\}$ arrives\n",
    "        - $S_i = (S_{i-1}^{-1} + \\beta \\Phi_{\\mathcal{X}_i}^{T} \\Phi_{\\mathcal{X}_i})^{-1}$\n",
    "        - $\\vec{m}_i = S_i(\\beta \\Phi_{\\mathcal{X}_i}^T \\vt_i + S_{i-1}^{-1} \\vec{m}_{i-1})$\n",
    "    - **End**\n",
    "    \n",
    "- This is **Bayesian Updating**."
   ]
  },
  {
   "cell_type": "markdown",
   "metadata": {
    "slideshow": {
     "slide_type": "slide"
    }
   },
   "source": [
    "### Sequential Bayesian Learning: Example\n",
    "\n",
    "- Assume observation $y$ is generated by\n",
    "    $$y = w_1 x + w_0 + \\epsilon$$\n",
    "    of which\n",
    "    $$w_1 = 0.5,\\ w_0 = -0.3,\\ \\epsilon \\sim \\N(0, \\beta^{-1})$$\n",
    "    (We use both $y$ and $t$ to denote observations)\n",
    "- We want to learn the coefficients $w_1$ and $w_0$ using sequential Bayesian learning."
   ]
  },
  {
   "cell_type": "markdown",
   "metadata": {
    "slideshow": {
     "slide_type": "slide"
    }
   },
   "source": [
    "#### Sequential Bayesian Learning: Example—No Data Comes Yet\n",
    "\n",
    "<center> <img src=\"images/sbl1.png\"  style=\"width:571px;height:167px;\"> </center>\n",
    "\n",
    "- **First Plot**—Nothing\n",
    "- **Second Plot**—Prior $P(\\vw) = \\N(\\vw \\, | \\, \\vec{m}_0, S_0)$\n",
    "- **Third Plot**—Sample lines of $y = w_1x+w_0$\n",
    "    - We draw 6 samples $\\vw$ based on distribution $\\N(\\vw \\, | \\, \\vec{m}_0, S_0)$ and plot the lines $y = w_1x+w_0$\n",
    "    - We could see they are highly scattered and far from the true line $y = 0.5x-0.3$\n"
   ]
  },
  {
   "cell_type": "markdown",
   "metadata": {
    "slideshow": {
     "slide_type": "slide"
    }
   },
   "source": [
    "#### Sequential Bayesian Learning: Example—First Observation Arrives\n",
    "- First observation $\\{y_1, x_1\\}$ (has been marked with blue circle in third plot)\n",
    "    <center> <img src=\"images/sbl2.png\"  style=\"width:571px;height:167px;;\"> </center>\n",
    "\n",
    "- **First Plot**—Likelihood $P(y = y_1 \\, | \\, \\vw, x_1) = P(y=y_1 \\, | \\, w_1x_1+w_0, \\beta^{-1})$\n",
    "    - Shows the probability of observing $y_1$ from distribution $\\N(\\ w_1x_1+w_0, \\beta^{-1})$ given different values of $\\vw$.\n",
    "    - $\\vw$ from *redder* region are more likely to produce $y_1$ given $x_1$\n",
    "    - True $\\vw=[-0.3, 0.5]$ (marked with white cross) falls in the orange zone.\n",
    "\n",
    "- **Second Plot**—Posterior $P(\\vw \\, | \\, y_1, x_1) = \\N(\\vw \\, | \\, m_1, S_1)$\n",
    "    - Computed from prior $\\N(\\vw | m_0, S_0)$ and the first observation\n",
    "    - Variance is smaller compared with our prior belief\n",
    "    - The mean is still far from true $\\vw=[-0.3, 0.5]$\n",
    "\n",
    "- **Third Plot**—Sample lines of $y = w_1x + w_0$ where $\\vw$ is drawn from $\\N(\\vw \\, | \\, m_1, S_1)$\n",
    "    - Still scattered and far from true line $y = 0.5x-0.3$"
   ]
  },
  {
   "cell_type": "markdown",
   "metadata": {
    "slideshow": {
     "slide_type": "slide"
    }
   },
   "source": [
    "#### Sequential Bayesian Learning: Example—Second Observation Arrives\n",
    "- Second observation $\\{y_2, x_2\\}$ (has been marked with blue circle in the left corner third plot)\n",
    "    <center> <img src=\"images/sbl3.png\"  style=\"width:571px;height:167px;;\"> </center>\n",
    "\n",
    "- **First Plot**—Likelihood $P(y=y_2 \\, | \\, \\vw, x_2) = P(y=y_2 \\, | \\, w_1x_2+w_0, \\beta^{-1})$\n",
    "    - True $\\vw=[-0.3, 0.5]$ (marked with white cross) still falls in the orange zone.\n",
    "\n",
    "- **Second Plot**—Posterior $P(\\vw \\, | \\, y_1, x_1, y_2, x_2) = \\N(\\vw \\, | \\, m_2, S_2)$\n",
    "    - Computed from posterior $\\N(\\vw \\, | \\, m_1, S_1)$ and the second observation\n",
    "    - Variance is even smaller\n",
    "    - The mean has moved much closer to $\\vw=[-0.3, 0.5]$\n",
    "\n",
    "- **Third Plot**—Sample lines of $y = w_1x + w_0$ where $\\vw$ is drawn from $\\N(\\vw \\, | \\, m_2, S_2)$\n",
    "    - Less scattered and slope is closer to $y = 0.5x-0.3$"
   ]
  },
  {
   "cell_type": "markdown",
   "metadata": {
    "slideshow": {
     "slide_type": "slide"
    }
   },
   "source": [
    "#### Sequential Bayesian Learning: Example—More Data Arrives\n",
    "- More observations $\\{y_i, x_i\\}_{i=3}^N$ arrive (have been marked with blue circle third plot)\n",
    "    <center> <img src=\"images/sbl4.png\"  style=\"width:571px;height:167px;;\"> </center>\n",
    "\n",
    "- **First Plot**—Likelihood $P(y = y_N \\, | \\, \\vw, x_N) = P(y=y_N \\, | \\, w_1x_N+w_0, \\beta^{-1})$\n",
    "    - Although for different $\\{y_i, x_i\\}$, the likelihood plots have different slope, true $\\vw=[-0.3, 0.5]$ always falls in the highly likely region.\n",
    "    \n",
    "- **Second Plot**—Posterior $P(\\vw \\, | \\, \\{y_i, x_i\\}_{i=1}^N ) = \\N(\\vw \\, | \\,  m_N, S_N)$\n",
    "    - Computed from posterior $\\N(\\vw \\, | \\,  m_{N-1}, S_{N-1})$ and the second observation\n",
    "    - The iridescent ring almost shrinks to a *point* locates at $[-0.3, 0.5]$\n",
    "    - This indicates the variance is really small and mean is really close to true value.\n",
    "\n",
    "- **Third Plot**—Sample lines of $y = w_1x + w_0$ where $\\vw$ is drawn from $\\N(\\vw \\, | \\, m_N, S_N)$\n",
    "    - The lines almost converge to true $y = 0.5x-0.3$\n",
    "    \n",
    "- For details of these plots, please refer to **[PRML]**-P154."
   ]
  },
  {
   "cell_type": "markdown",
   "metadata": {
    "slideshow": {
     "slide_type": "slide"
    }
   },
   "source": [
    "### Predictive Distribution\n",
    "- Recall our ultimate goal in linear regression is to predict $t$ for new data $\\vx$\n",
    "\n",
    "    - We could take the mean of posterior $\\vec{m}_N$ as the estimate of $\\vw$ and get a prediction $$t = \\vec{m}_N^T \\phi(\\vx)$$\n",
    "\n",
    "    - **But**, this could be a waste of the posterior of $\\vw$. We want to know more about prediction $t$.\n",
    "\n",
    "    - Actually, we could obtain distribution of $t$ based on the full posterior of $\\vw$\n",
    "\n",
    "- Let $\\mathcal{D} = \\{ (t_i, \\vx_i) \\}_{i=1}^N$ denote the training data. Then the **predictive distributinon** for some **new data** $\\vx$ is\n",
    "    $$\n",
    "    \\begin{align}\n",
    "    P(t \\, | \\, \\vx, \\mathcal{D})\n",
    "    &= \\int_\\vw P(t, \\vw \\, | \\, \\vx, \\mathcal{D}) \\, \\d \\vw \\\\\n",
    "    &= \\int_\\vw  P(t \\, | \\, \\vw, \\vx, \\mathcal{D})  P(\\vw \\, | \\, \\vx, \\mathcal{D})  \\, \\d \\vw \\\\\n",
    "    &= \\int_\\vw  P(t \\, | \\, \\vw, \\vx)  P(\\vw \\, | \\, \\mathcal{D}) \\, \\d \\vw \\\\\n",
    "    &= \\int_\\vw \\mathcal{N}(t \\, | \\, \\vw^T\\phi(\\vx), \\beta^{-1})\\mathcal{N}(\\vw \\, | \\, \\vec{m}_N, S_N)  \\, \\d \\vw\n",
    "    \\end{align}\n",
    "    $$\n",
    "    The third quality holds because $t$ is independent of $\\mathcal{D}$ and $\\vw$ is independent of $\\vx$."
   ]
  },
  {
   "cell_type": "markdown",
   "metadata": {
    "slideshow": {
     "slide_type": "slide"
    }
   },
   "source": [
    "### Predictive Distribution: Derivation\n",
    "\n",
    "- We don't have to take the pains to do integration!\n",
    "- The results we derived in Bayes' theorem for linear Gaussian will save us!\n",
    "    $$\n",
    "    \\boxed{\n",
    "    \\begin{align}\n",
    "    & \\text{Previous Results} \\\\\n",
    "    \\vec{x} & \\sim \\N(\\mu_\\vx, \\Sigma_\\vx) \\\\\n",
    "    \\vec{y}|\\vec{x} & \\sim \\N(A\\vec{x}+\\vb, \\Sigma_{\\vy|\\vx}) \\\\\n",
    "    & \\Downarrow \\\\\n",
    "    \\vy &\\sim \\N(A \\mu_\\vx + b, \\Sigma_{\\vy|\\vx} + A \\Sigma_\\vx A^T) \n",
    "    \\end{align}\n",
    "    }\n",
    "    \\Rightarrow\n",
    "    \\boxed{\n",
    "    \\begin{align}\n",
    "    & \\text{Prediction of } \\vw\\\\\n",
    "    \\vw | \\vx, \\mathcal{D}  & \\sim \\N(\\vec{m}_N, S_N) \\\\\n",
    "    t|\\vw, \\vx, \\mathcal{D} & \\sim \\N(\\phi^T \\vw, \\beta^{-1}) \\\\\n",
    "    & \\Downarrow \\\\\n",
    "    t \\, | \\, \\vx, \\mathcal{D} & \\sim \\N(\\, \\phi(\\vx)^T \\vec{m}_n \\,, \\,{\\beta}^{-1} + \\phi(\\vx)^T S_N \\phi(\\vx) \\,)\n",
    "    \\end{align}\n",
    "    }\n",
    "    $$\n",
    "- So, we have \n",
    "    $$\n",
    "    \\boxed{P(t \\, | \\, \\vx, \\mathcal{D}) = \\N(t \\, | \\, \\phi(\\vx)^T \\vec{m}_n \\,, \\,{\\beta}^{-1} + \\phi(\\vx)^T S_N \\phi(\\vx) \\,)}\n",
    "    $$\n",
    "- Done!    "
   ]
  },
  {
   "cell_type": "markdown",
   "metadata": {
    "slideshow": {
     "slide_type": "slide"
    }
   },
   "source": [
    "### Predictive Distribution: Derivation\n",
    "\n",
    "- We don't have to take the pains to do integration!\n",
    "- The results we derived in Bayes' theorem for linear Gaussian will save us!\n",
    "    $$\n",
    "    \\boxed{\n",
    "    \\begin{align}\n",
    "    & \\text{Previous Results} \\\\\n",
    "    \\vec{x} & \\sim \\N(\\mu_\\vx, \\Sigma_\\vx) \\\\\n",
    "    \\vec{y}|\\vec{x} & \\sim \\N(A\\vec{x}+\\vb, \\Sigma_{\\vy|\\vx}) \\\\\n",
    "    & \\Downarrow \\\\\n",
    "    \\vy &\\sim \\N(A \\mu_\\vx + b, \\Sigma_{\\vy|\\vx} + A \\Sigma_\\vx A^T) \n",
    "    \\end{align}\n",
    "    }\n",
    "    \\Rightarrow\n",
    "    \\boxed{\n",
    "    \\begin{align}\n",
    "    & \\text{Prediction of } \\vw\\\\\n",
    "    \\vw | \\vx, \\mathcal{D}  & \\sim \\N(\\vec{m}_N, S_N) \\\\\n",
    "    t|\\vw, \\vx, \\mathcal{D} & \\sim \\N(\\phi^T \\vw, \\beta^{-1}) \\\\\n",
    "    & \\Downarrow \\\\\n",
    "    t \\, | \\, \\vx, \\mathcal{D} & \\sim \\N(\\, \\phi(\\vx)^T \\vec{m}_n \\,, \\,{\\beta}^{-1} + \\phi(\\vx)^T S_N \\phi(\\vx) \\,)\n",
    "    \\end{align}\n",
    "    }\n",
    "    $$\n",
    "- Done!    "
   ]
  },
  {
   "cell_type": "markdown",
   "metadata": {
    "slideshow": {
     "slide_type": "slide"
    }
   },
   "source": [
    "### Predictive Distribution:  Example\n",
    "\n",
    "- Here the underlying true model we will use is $$t = \\sin(2 \\pi x) + \\epsilon$$ of which $\\epsilon$ represents some noise.\n",
    "\n",
    "- In regression, rather than polynomial basis function we used in previous lectures, we will use 9 Gaussian basis function\n",
    "    $$\n",
    "    \\phi_j(x) = \\exp\\left\\{ -\\frac{(x- \\mu_j)}{2s^2} \\right\\}\n",
    "    $$\n",
    "\n",
    "- We will still use streaming fashion."
   ]
  },
  {
   "cell_type": "markdown",
   "metadata": {
    "slideshow": {
     "slide_type": "slide"
    }
   },
   "source": [
    "#### Predictive Distribution:  Example—One Observation\n",
    "- The observations are marked with blue circles in the plots.\n",
    "- Green curve is the true model $t = \\sin(2 \\pi x)$\n",
    "\n",
    "<center> <img src=\"images/predictive-n1.png\"  style=\"width:506px;height:190px;\"> </center>\n",
    "\n",
    "- **Left Plot**\n",
    "    - Red curve gives the mean value of prediction distribution $P(t | x, \\mathcal{D}_1)$, which is $\\phi(x)^T m_1$\n",
    "    - Red shaded region spans one standard deviation on either side of the mean\n",
    "    - Note that smallest deviation/variance occurs near observation point\n",
    "\n",
    "- **Right Plot**\n",
    "    - We first draw samples of $\\vw$ from $P(\\vw | \\mathcal{D}_1)$\n",
    "    - Then plot sample curves $y(x, \\vw) = \\vw^T \\phi(x)$\n",
    "    - If we draw infinite sample cures, their mean is just the red mean curve in left plot.\n",
    "- Here $\\mathcal{D}_i$ represents the first $i$ observations"
   ]
  },
  {
   "cell_type": "markdown",
   "metadata": {
    "slideshow": {
     "slide_type": "slide"
    }
   },
   "source": [
    "#### Predictive Distribution:  Example—Two Observations\n",
    "\n",
    "<center> <img src=\"images/predictive-n2.png\"  style=\"width:506px;height:190px;\"> </center>\n",
    "\n",
    "- **Left Plot**\n",
    "    - Red curve gives the mean value of prediction distribution $P(t | x, \\mathcal{D}_2)$, which is $\\phi(x)^T m_2$\n",
    "    - Red Mean Curve starts to resemble the true curve.\n",
    "    - Red shaded region has shrunk indicating variance becomes smaller\n",
    "\n",
    "- **Right Plot**\n",
    "    - We first draw samples of $\\vw$ from $P(\\vw | \\mathcal{D}_2)$\n",
    "    - Then plot sample curves $y(x, \\vw) = \\vw^T \\phi(x)$\n",
    "    - The sample curves are still quite scattered\n"
   ]
  },
  {
   "cell_type": "markdown",
   "metadata": {
    "slideshow": {
     "slide_type": "slide"
    }
   },
   "source": [
    "#### Predictive Distribution:  Example—Four Observations\n",
    "\n",
    "<center> <img src=\"images/predictive-n4.png\"  style=\"width:506px;height:190px;\"> </center>\n",
    "\n",
    "- **Left Plot**\n",
    "    - Red curve gives the mean value of prediction distribution $P(t | x, \\mathcal{D}_3)$, which is $\\phi(x)^T m_3$\n",
    "    - Red shaded region has further shrunk indicating smaller variance/uncertainty\n",
    "    - Red shaded region has small height near observation points\n",
    "    - Our observations have the effect of reducing the variance at their positions.\n",
    "    \n",
    "- **Right Plot**\n",
    "    - We first draw samples of $\\vw$ from $P(\\vw | \\mathcal{D}_2)$\n",
    "    - Then plot sample curves $y(x, \\vw) = \\vw^T \\phi(x)$\n",
    "    - The sample curves are still quite scattered\n"
   ]
  },
  {
   "cell_type": "markdown",
   "metadata": {
    "slideshow": {
     "slide_type": "slide"
    }
   },
   "source": [
    "#### Predictive Distribution:  Example—Twenty Five Observations\n",
    "\n",
    "<center> <img src=\"images/predictive-n25.png\"  style=\"width:506px;height:190px;\"> </center>\n",
    "\n",
    "- **Left Plot**\n",
    "    - Red curve gives the mean value of prediction distribution $P(t | x, \\mathcal{D}_{25})$, which is $\\phi(x)^T m_{25}$\n",
    "    - Red curve is already very close to the true curve!\n",
    "    - Red shaded region has shrunk greatly and variance has reduced greatly.\n",
    "    \n",
    "- **Right Plot**\n",
    "    - We first draw samples of $\\vw$ from $P(\\vw | \\mathcal{D}_{25})$\n",
    "    - Then plot sample curves $y(x, \\vw) = \\vw^T \\phi(x)$\n",
    "    - The sample curves almost converge to the true curve!\n",
    "\n",
    "- For details of these plots, please refer to **[PRML]**-P157."
   ]
  },
  {
   "cell_type": "markdown",
   "metadata": {
    "slideshow": {
     "slide_type": "slide"
    }
   },
   "source": [
    "## Gaussian Processes\n",
    "\n",
    "> Taken from **[CS229]** and **[MLAPP]**\n",
    "\n",
    "- Now we will show you Bayesian linear regression is actually a Gaussian process."
   ]
  },
  {
   "cell_type": "markdown",
   "metadata": {
    "slideshow": {
     "slide_type": "slide"
    }
   },
   "source": [
    "### Gaussian Processes\n",
    "\n",
    "- **Motivation**: Here are some data points. What function did they come from?\n",
    "    - GPs are a nice way of expressing “priors on functions”\n",
    "    - Applications: Regression and Classification"
   ]
  },
  {
   "cell_type": "markdown",
   "metadata": {
    "slideshow": {
     "slide_type": "slide"
    }
   },
   "source": [
    "### Gaussian Processes:  Motivation\n",
    "\n",
    "- **Multivariate Gaussians** are useful for modeling *finite* collections of real-valued variables.\n",
    "    - Nice analytical properties\n",
    "    - Distribution over **random vectors**\n",
    "    - Easily model *correlations* between variables\n",
    "\n",
    "- **Gaussian Processes** extend Multivariate Gaussians to *infinite-sized* collections of real-valued variables.\n",
    "    - Distribution over **random functions**"
   ]
  },
  {
   "cell_type": "markdown",
   "metadata": {
    "slideshow": {
     "slide_type": "slide"
    }
   },
   "source": [
    "### Distributions over Functions:  Finite Domain\n",
    "\n",
    "- How can we parameterize probability distributions over functions?\n",
    "\n",
    "- Consider the following simple example:\n",
    "    - Let $\\mathcal{X} = \\{ x_1, \\dots, x_m \\}$ be any finite set.\n",
    "    - Let $\\mathcal{H}$ be the set of all functions $h : \\mathcal{X} \\mapsto \\R$.\n",
    "\n",
    "- For example, one function $h_0 \\in \\mathcal{H}$ is\n",
    "    $$\n",
    "    h_0(x_1) = 5 \\quad h_0(x_2) = 2.3 \\quad \\cdots \\quad h_0(x_{m-1}) = -\\pi \\quad h_0(x_m) = 8\n",
    "    $$\n",
    "\n",
    "- Then $h_0$ could be represented as a vector $\\vec{h_0} = [5, 2.3, \\dots, \\pi, 8]$\n",
    "\n",
    "- Any function $h \\in \\mathcal{H}$ can be represented as a vector."
   ]
  },
  {
   "cell_type": "markdown",
   "metadata": {
    "slideshow": {
     "slide_type": "slide"
    }
   },
   "source": [
    "### Distributions over Functions:  Finite Domain\n",
    "\n",
    "- To specify a distribution over $\\mathcal{H}$, exploit the one-one mapping to $\\R^m$\n",
    "    - Assume a distribution over vectors, $\\vec{h} \\sim \\mathcal{N}(\\vec{\\mu}, \\sigma^2 I)$.\n",
    "\n",
    "- This **induces** a distribution over $\\mathcal{H}$ given by likelihoods at each *\"sample point\"*:\n",
    "    $$\n",
    "    P(h) = P(\\vec{h}) = \\prod_{k=1}^m \\frac{1}{\\sqrt{2\\pi} \\sigma} \\exp\\left[ -\\frac{1}{2\\sigma^2} ( f(x_k) - \\mu_k )^2 \\right]\n",
    "    $$"
   ]
  },
  {
   "cell_type": "markdown",
   "metadata": {
    "slideshow": {
     "slide_type": "slide"
    }
   },
   "source": [
    "### Distributions over Functions:  Infinite Domain\n",
    "\n",
    "- A **stochastic process** is a collection of random variables, $f = \\{ f(x) \\}_{x \\in \\mathcal{X}}$ with index set $\\mathcal{X}$, e.g.\n",
    "    - Dirichlet Processes, Poisson Processes, etc.\n",
    "\n",
    "- A **Gaussian Process** is a stochastic process such that any finite subcollection of random variables has a multivariate Gaussian distribution"
   ]
  },
  {
   "cell_type": "markdown",
   "metadata": {
    "slideshow": {
     "slide_type": "slide"
    }
   },
   "source": [
    "### Gaussian Processes:  Definition\n",
    "\n",
    "- We say $f(\\cdot) \\sim \\mathcal{GP}(m, k)$ is drawn from a Gaussian process with\n",
    "    - mean function $m(\\cdot) : \\mathcal{X} \\mapsto \\R$\n",
    "    - covariance or kernel function $k(\\cdot, \\cdot) : \\mathcal{X} \\times \\mathcal{X} \\mapsto \\R$\n",
    "\n",
    " provided that for any finite set $\\{x_1, \\dots, x_m\\} \\subset \\mathcal{X}$, the associated random variables have distribution\n",
    "$$\n",
    "\\begin{bmatrix}\n",
    "f(x_1) \\\\ \\vdots \\\\ f(x_m)\n",
    "\\end{bmatrix}\n",
    "\\sim\n",
    "\\mathcal{N}\\left(\n",
    "\\begin{bmatrix}\n",
    "m(x_1) \\\\ \\vdots \\\\ m(x_m)\n",
    "\\end{bmatrix},\n",
    "\\begin{bmatrix}\n",
    "k(x_1, x_1) & \\cdots & k(x_1, x_m) \\\\\n",
    "\\vdots & \\ddots & \\vdots \\\\\n",
    "k(x_m, x_1) & \\cdots & k(x_m, x_m)\n",
    "\\end{bmatrix}\n",
    "\\right)\n",
    "$$"
   ]
  },
  {
   "cell_type": "markdown",
   "metadata": {
    "slideshow": {
     "slide_type": "slide"
    }
   },
   "source": [
    "### Gaussian Processes:  Interpretation\n",
    "\n",
    "- Intuitively, $f \\sim \\mathcal{GP}(m, k)$ is an \n",
    "    - extremely high-dimensional vector\n",
    "    - drawn from an extremely high-dimensional Gaussian\n",
    "\n",
    "- Each dimension corresponds to an element $x \\in \\mathcal{X}$,\n",
    "    - the corresponding component of the vector represents $f(x)$"
   ]
  },
  {
   "cell_type": "markdown",
   "metadata": {
    "slideshow": {
     "slide_type": "slide"
    }
   },
   "source": [
    "### Gaussian Processes:  Mean and Covariance\n",
    "\n",
    "- The **mean function** $m(\\cdot) : \\mathcal{X} \\mapsto \\R$ can be any function.\n",
    "    - For most applications, we set $m \\equiv 0$.\n",
    "\n",
    "- The **covariance function** $k(\\cdot, \\cdot) : \\mathcal{X} \\times \\mathcal{X} \\mapsto \\R$ must be a valid kernel.\n",
    "    - $f(x)$ and $f(x')$ will have high covariance if $x$ and $x'$ are \"nearby\"\n",
    "    - Therefore, kernel controls **smoothness**"
   ]
  },
  {
   "cell_type": "markdown",
   "metadata": {
    "slideshow": {
     "slide_type": "slide"
    }
   },
   "source": [
    "### Gaussian Processes:  Example\n",
    "\n",
    "- When $m \\equiv 0$, the choice of kernel defines the prior.\n",
    "    - (Left) Gaussian Kernel $k(x, x') = \\exp(−\\theta ||x − x'||_2^2)$\n",
    "    - (Right) Exponential Kernel $k(x, x') = \\exp(−\\theta ||x − x'||_1)$\n",
    "\n",
    "- Samples from a Gaussian Process:\n",
    "\n",
    "<center><img src=\"images/gpleft.png\"></center>"
   ]
  },
  {
   "cell_type": "markdown",
   "metadata": {
    "slideshow": {
     "slide_type": "slide"
    }
   },
   "source": [
    "### Linear Regression Revisited\n",
    "\n",
    "- **Model:**  Assume $y \\approx w^T \\phi(x)$ is a combination of $M$ fixed basis functions.\n",
    "    $$\n",
    "    \\begin{align}\n",
    "    w &\\sim \\mathcal{N}(w_0, S_0) \\\\\n",
    "    y | x, w, \\beta &\\sim \\mathcal{N}(w^T \\phi(x_n), \\beta^{-1})\n",
    "    \\end{align}\n",
    "    $$\n",
    "\n",
    "- Given training points $x_1, \\dots, x_N$, what is the joint distribution $P(\\vec{y})$ of $y(x_1), \\dots, y(x_N)$?\n",
    "    $$\n",
    "    \\vec{y} = \\Phi w = \\begin{bmatrix} y(x_1) & \\cdots & y(x_N) \\end{bmatrix}^T\n",
    "    $$"
   ]
  },
  {
   "cell_type": "markdown",
   "metadata": {
    "slideshow": {
     "slide_type": "slide"
    }
   },
   "source": [
    "### Linear Regression Revisited\n",
    "\n",
    "- Note $\\vec{y} = \\Phi w$ is a linear combination of Gaussians $w$, so is itself Gaussian!\n",
    "\n",
    "    $$\n",
    "    \\begin{align}\n",
    "    \\mathrm{E}[\\vec{y}]\n",
    "    &= \\Phi E[w] = 0 \\\\\n",
    "    \\mathrm{Cov}[\\vec{y}] \n",
    "    &= \\mathrm{E}[yy^T]\n",
    "    = \\Phi \\mathrm{E}[ww^T] \\Phi^T\n",
    "    = \\frac{1}{\\alpha} \\Phi \\Phi^T\n",
    "    = K\n",
    "    \\end{align}\n",
    "    $$\n",
    "\n",
    "- where $K = [ k(x_i, x_j) ]_{i,j} \\in \\R^{N \\times N}$ is the **Gram Matrix** over the training data with kernel\n",
    "    $$\n",
    "    k(x_i, x_j) = \\frac{1}{\\alpha} \\phi(x_i)^T \\phi(x_j)\n",
    "    $$"
   ]
  },
  {
   "cell_type": "markdown",
   "metadata": {
    "slideshow": {
     "slide_type": "slide"
    }
   },
   "source": [
    "### Bayesian Linear Regression\n",
    "\n",
    "- So, Bayesian Kernel Linear Regression is a Gaussian Process!\n",
    "    - Kernel $k(\\cdot, \\cdot)$ is dot product in feature space.\n",
    "    $$\n",
    "    \\begin{align}\n",
    "    y &= f(x) + \\epsilon \\\\\n",
    "    f &\\sim \\mathcal{GP}(0, k(\\cdot, \\cdot)) \\\\\n",
    "    \\epsilon &\\sim \\mathcal{N}(0, \\sigma^2)\n",
    "    \\end{align}\n",
    "    $$\n",
    "\n",
    "> Features in BLR $\\iff$ Kernel functions for GPs\n",
    "\n",
    "- In general, $k(\\cdot, \\cdot)$ can be any valid kernel,\n",
    "- See the book for more details."
   ]
  }
 ],
 "metadata": {
  "celltoolbar": "Slideshow",
  "kernelspec": {
   "display_name": "Python 2",
   "language": "python",
   "name": "python2"
  },
  "language_info": {
   "codemirror_mode": {
    "name": "ipython",
    "version": 2
   },
   "file_extension": ".py",
   "mimetype": "text/x-python",
   "name": "python",
   "nbconvert_exporter": "python",
   "pygments_lexer": "ipython2",
   "version": "2.7.11"
  }
 },
 "nbformat": 4,
 "nbformat_minor": 0
}
